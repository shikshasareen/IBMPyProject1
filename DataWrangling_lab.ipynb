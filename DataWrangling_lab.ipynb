{
  "cells": [
    {
      "cell_type": "markdown",
      "metadata": {
        "id": "UCuYRsCsSh8I"
      },
      "source": [
        "<p style=\"text-align:center\">\n",
        "    <a href=\"https://skills.network/?utm_medium=Exinfluencer&utm_source=Exinfluencer&utm_content=000026UJ&utm_term=10006555&utm_id=NA-SkillsNetwork-Channel-SkillsNetworkCoursesIBMDA0321ENSkillsNetwork928-2022-01-01\" target=\"_blank\">\n",
        "    <img src=\"https://cf-courses-data.s3.us.cloud-object-storage.appdomain.cloud/assets/logos/SN_web_lightmode.png\" width=\"200\" alt=\"Skills Network Logo\"  />\n",
        "    </a>\n",
        "</p>\n"
      ]
    },
    {
      "cell_type": "markdown",
      "metadata": {
        "id": "1Y1kfU0FSh8M"
      },
      "source": [
        "# **Data Wrangling Lab**\n"
      ]
    },
    {
      "cell_type": "markdown",
      "metadata": {
        "id": "zXvGEX-bSh8N"
      },
      "source": [
        "Estimated time needed: **45 to 60** minutes\n"
      ]
    },
    {
      "cell_type": "markdown",
      "metadata": {
        "id": "WU8--EK0Sh8N"
      },
      "source": [
        "In this assignment you will be performing data wrangling.\n"
      ]
    },
    {
      "cell_type": "markdown",
      "metadata": {
        "id": "aNjMRGtRSh8O"
      },
      "source": [
        "## Objectives\n"
      ]
    },
    {
      "cell_type": "markdown",
      "metadata": {
        "id": "HbzrQSgISh8O"
      },
      "source": [
        "In this lab you will perform the following:\n"
      ]
    },
    {
      "cell_type": "markdown",
      "metadata": {
        "id": "qmFN38u1Sh8P"
      },
      "source": [
        "-   Identify duplicate values in the dataset.\n",
        "\n",
        "-   Remove duplicate values from the dataset.\n",
        "\n",
        "-   Identify missing values in the dataset.\n",
        "\n",
        "-   Impute the missing values in the dataset.\n",
        "\n",
        "-   Normalize data in the dataset.\n"
      ]
    },
    {
      "cell_type": "markdown",
      "metadata": {
        "id": "FHZDKbUcSh8P"
      },
      "source": [
        "<hr>\n"
      ]
    },
    {
      "cell_type": "markdown",
      "metadata": {
        "id": "6BbwP0gKSh8Q"
      },
      "source": [
        "## Hands on Lab\n"
      ]
    },
    {
      "cell_type": "markdown",
      "metadata": {
        "id": "Ca2VitPhSh8R"
      },
      "source": [
        "Import pandas module.\n"
      ]
    },
    {
      "cell_type": "code",
      "execution_count": null,
      "metadata": {
        "id": "FYE-8HkrSh8R"
      },
      "outputs": [],
      "source": [
        "import pandas as pd\n",
        "import numpy as np"
      ]
    },
    {
      "cell_type": "markdown",
      "metadata": {
        "id": "UzUbr01aSh8S"
      },
      "source": [
        "Load the dataset into a dataframe.\n"
      ]
    },
    {
      "cell_type": "code",
      "execution_count": null,
      "metadata": {
        "id": "tqQQjanrSh8T"
      },
      "outputs": [],
      "source": [
        "df = pd.read_csv(\"https://cf-courses-data.s3.us.cloud-object-storage.appdomain.cloud/IBM-DA0321EN-SkillsNetwork/LargeData/m1_survey_data.csv\")"
      ]
    },
    {
      "cell_type": "markdown",
      "metadata": {
        "id": "Rk7Dr69zSh8T"
      },
      "source": [
        "## Finding duplicates\n"
      ]
    },
    {
      "cell_type": "markdown",
      "metadata": {
        "id": "qGkNvnXASh8T"
      },
      "source": [
        "In this section you will identify duplicate values in the dataset.\n"
      ]
    },
    {
      "cell_type": "markdown",
      "metadata": {
        "id": "zvR-WPPOSh8U"
      },
      "source": [
        " Find how many duplicate rows exist in the dataframe.\n"
      ]
    },
    {
      "cell_type": "code",
      "execution_count": null,
      "metadata": {
        "colab": {
          "base_uri": "https://localhost:8080/"
        },
        "id": "FLovVyAqSh8U",
        "outputId": "ca368d85-e182-4405-9e58-f0000ef1cc9f"
      },
      "outputs": [
        {
          "output_type": "execute_result",
          "data": {
            "text/plain": [
              "154"
            ]
          },
          "metadata": {},
          "execution_count": 3
        }
      ],
      "source": [
        "df.duplicated().sum()\n"
      ]
    },
    {
      "cell_type": "markdown",
      "metadata": {
        "id": "Vq3gEB4tSh8U"
      },
      "source": [
        "## Removing duplicates\n"
      ]
    },
    {
      "cell_type": "markdown",
      "metadata": {
        "id": "8tiy2yzZSh8V"
      },
      "source": [
        "Remove the duplicate rows from the dataframe.\n"
      ]
    },
    {
      "cell_type": "code",
      "execution_count": null,
      "metadata": {
        "id": "Yey4H-eJSh8V"
      },
      "outputs": [],
      "source": [
        "df.drop_duplicates(inplace=True)\n"
      ]
    },
    {
      "cell_type": "markdown",
      "metadata": {
        "id": "VyRT_FogSh8V"
      },
      "source": [
        "Verify if duplicates were actually dropped.\n"
      ]
    },
    {
      "cell_type": "code",
      "execution_count": null,
      "metadata": {
        "colab": {
          "base_uri": "https://localhost:8080/"
        },
        "id": "s1FMUpqOSh8V",
        "outputId": "020b43c3-8f1b-4f06-da4b-6f02f22acb7b"
      },
      "outputs": [
        {
          "output_type": "execute_result",
          "data": {
            "text/plain": [
              "0"
            ]
          },
          "metadata": {},
          "execution_count": 5
        }
      ],
      "source": [
        "df.duplicated().sum()\n"
      ]
    },
    {
      "cell_type": "code",
      "source": [
        "df"
      ],
      "metadata": {
        "colab": {
          "base_uri": "https://localhost:8080/",
          "height": 1000
        },
        "id": "vHMH7REJXF8v",
        "outputId": "e71f770a-18b3-4415-a64c-0ff9ebc7b9b1"
      },
      "execution_count": null,
      "outputs": [
        {
          "output_type": "execute_result",
          "data": {
            "text/plain": [
              "       Respondent                      MainBranch Hobbyist  \\\n",
              "0               4  I am a developer by profession       No   \n",
              "1               9  I am a developer by profession      Yes   \n",
              "2              13  I am a developer by profession      Yes   \n",
              "3              16  I am a developer by profession      Yes   \n",
              "4              17  I am a developer by profession      Yes   \n",
              "...           ...                             ...      ...   \n",
              "11547       25136  I am a developer by profession      Yes   \n",
              "11548       25137  I am a developer by profession      Yes   \n",
              "11549       25138  I am a developer by profession      Yes   \n",
              "11550       25141  I am a developer by profession      Yes   \n",
              "11551       25142  I am a developer by profession      Yes   \n",
              "\n",
              "                                             OpenSourcer  \\\n",
              "0                                                  Never   \n",
              "1                             Once a month or more often   \n",
              "2      Less than once a month but more than once per ...   \n",
              "3                                                  Never   \n",
              "4      Less than once a month but more than once per ...   \n",
              "...                                                  ...   \n",
              "11547                                              Never   \n",
              "11548                                              Never   \n",
              "11549                            Less than once per year   \n",
              "11550  Less than once a month but more than once per ...   \n",
              "11551  Less than once a month but more than once per ...   \n",
              "\n",
              "                                              OpenSource          Employment  \\\n",
              "0      The quality of OSS and closed source software ...  Employed full-time   \n",
              "1      The quality of OSS and closed source software ...  Employed full-time   \n",
              "2      OSS is, on average, of HIGHER quality than pro...  Employed full-time   \n",
              "3      The quality of OSS and closed source software ...  Employed full-time   \n",
              "4      The quality of OSS and closed source software ...  Employed full-time   \n",
              "...                                                  ...                 ...   \n",
              "11547  OSS is, on average, of HIGHER quality than pro...  Employed full-time   \n",
              "11548  The quality of OSS and closed source software ...  Employed full-time   \n",
              "11549  The quality of OSS and closed source software ...  Employed full-time   \n",
              "11550  OSS is, on average, of LOWER quality than prop...  Employed full-time   \n",
              "11551  OSS is, on average, of HIGHER quality than pro...  Employed full-time   \n",
              "\n",
              "              Country Student  \\\n",
              "0       United States      No   \n",
              "1         New Zealand      No   \n",
              "2       United States      No   \n",
              "3      United Kingdom      No   \n",
              "4           Australia      No   \n",
              "...               ...     ...   \n",
              "11547   United States      No   \n",
              "11548          Poland      No   \n",
              "11549   United States      No   \n",
              "11550     Switzerland      No   \n",
              "11551  United Kingdom      No   \n",
              "\n",
              "                                                 EdLevel  \\\n",
              "0               Bachelor’s degree (BA, BS, B.Eng., etc.)   \n",
              "1      Some college/university study without earning ...   \n",
              "2            Master’s degree (MA, MS, M.Eng., MBA, etc.)   \n",
              "3            Master’s degree (MA, MS, M.Eng., MBA, etc.)   \n",
              "4               Bachelor’s degree (BA, BS, B.Eng., etc.)   \n",
              "...                                                  ...   \n",
              "11547        Master’s degree (MA, MS, M.Eng., MBA, etc.)   \n",
              "11548        Master’s degree (MA, MS, M.Eng., MBA, etc.)   \n",
              "11549        Master’s degree (MA, MS, M.Eng., MBA, etc.)   \n",
              "11550  Secondary school (e.g. American high school, G...   \n",
              "11551          Other doctoral degree (Ph.D, Ed.D., etc.)   \n",
              "\n",
              "                                          UndergradMajor  ...  \\\n",
              "0      Computer science, computer engineering, or sof...  ...   \n",
              "1      Computer science, computer engineering, or sof...  ...   \n",
              "2      Computer science, computer engineering, or sof...  ...   \n",
              "3                                                    NaN  ...   \n",
              "4      Computer science, computer engineering, or sof...  ...   \n",
              "...                                                  ...  ...   \n",
              "11547  Computer science, computer engineering, or sof...  ...   \n",
              "11548  Computer science, computer engineering, or sof...  ...   \n",
              "11549  Computer science, computer engineering, or sof...  ...   \n",
              "11550                                                NaN  ...   \n",
              "11551  A natural science (ex. biology, chemistry, phy...  ...   \n",
              "\n",
              "                                            SONewContent   Age Gender Trans  \\\n",
              "0      Tech articles written by other developers;Indu...  22.0    Man    No   \n",
              "1                                                    NaN  23.0    Man    No   \n",
              "2      Tech articles written by other developers;Cour...  28.0    Man    No   \n",
              "3      Tech articles written by other developers;Indu...  26.0    Man    No   \n",
              "4      Tech articles written by other developers;Indu...  29.0    Man    No   \n",
              "...                                                  ...   ...    ...   ...   \n",
              "11547  Tech articles written by other developers;Cour...  36.0    Man    No   \n",
              "11548  Tech articles written by other developers;Tech...  25.0    Man    No   \n",
              "11549  Tech articles written by other developers;Indu...  34.0    Man    No   \n",
              "11550                                                NaN  25.0    Man    No   \n",
              "11551  Tech articles written by other developers;Tech...  30.0    Man    No   \n",
              "\n",
              "                     Sexuality                              Ethnicity  \\\n",
              "0      Straight / Heterosexual           White or of European descent   \n",
              "1                     Bisexual           White or of European descent   \n",
              "2      Straight / Heterosexual           White or of European descent   \n",
              "3      Straight / Heterosexual           White or of European descent   \n",
              "4      Straight / Heterosexual  Hispanic or Latino/Latina;Multiracial   \n",
              "...                        ...                                    ...   \n",
              "11547  Straight / Heterosexual           White or of European descent   \n",
              "11548  Straight / Heterosexual           White or of European descent   \n",
              "11549  Straight / Heterosexual           White or of European descent   \n",
              "11550  Straight / Heterosexual           White or of European descent   \n",
              "11551                 Bisexual           White or of European descent   \n",
              "\n",
              "      Dependents           SurveyLength                  SurveyEase  \\\n",
              "0             No  Appropriate in length                        Easy   \n",
              "1             No  Appropriate in length  Neither easy nor difficult   \n",
              "2            Yes  Appropriate in length                        Easy   \n",
              "3             No  Appropriate in length  Neither easy nor difficult   \n",
              "4             No  Appropriate in length                        Easy   \n",
              "...          ...                    ...                         ...   \n",
              "11547         No  Appropriate in length                   Difficult   \n",
              "11548         No  Appropriate in length  Neither easy nor difficult   \n",
              "11549        Yes               Too long                        Easy   \n",
              "11550         No  Appropriate in length                        Easy   \n",
              "11551         No  Appropriate in length                        Easy   \n",
              "\n",
              "      NormalizedAnnualCompensation  \n",
              "0                          61000.0  \n",
              "1                         138000.0  \n",
              "2                          90000.0  \n",
              "3                         348000.0  \n",
              "4                          90000.0  \n",
              "...                            ...  \n",
              "11547                     130000.0  \n",
              "11548                      74400.0  \n",
              "11549                     105000.0  \n",
              "11550                      80000.0  \n",
              "11551                          NaN  \n",
              "\n",
              "[11398 rows x 86 columns]"
            ],
            "text/html": [
              "\n",
              "  <div id=\"df-cb384d87-5111-4653-8cd3-6538b89a468d\" class=\"colab-df-container\">\n",
              "    <div>\n",
              "<style scoped>\n",
              "    .dataframe tbody tr th:only-of-type {\n",
              "        vertical-align: middle;\n",
              "    }\n",
              "\n",
              "    .dataframe tbody tr th {\n",
              "        vertical-align: top;\n",
              "    }\n",
              "\n",
              "    .dataframe thead th {\n",
              "        text-align: right;\n",
              "    }\n",
              "</style>\n",
              "<table border=\"1\" class=\"dataframe\">\n",
              "  <thead>\n",
              "    <tr style=\"text-align: right;\">\n",
              "      <th></th>\n",
              "      <th>Respondent</th>\n",
              "      <th>MainBranch</th>\n",
              "      <th>Hobbyist</th>\n",
              "      <th>OpenSourcer</th>\n",
              "      <th>OpenSource</th>\n",
              "      <th>Employment</th>\n",
              "      <th>Country</th>\n",
              "      <th>Student</th>\n",
              "      <th>EdLevel</th>\n",
              "      <th>UndergradMajor</th>\n",
              "      <th>...</th>\n",
              "      <th>SONewContent</th>\n",
              "      <th>Age</th>\n",
              "      <th>Gender</th>\n",
              "      <th>Trans</th>\n",
              "      <th>Sexuality</th>\n",
              "      <th>Ethnicity</th>\n",
              "      <th>Dependents</th>\n",
              "      <th>SurveyLength</th>\n",
              "      <th>SurveyEase</th>\n",
              "      <th>NormalizedAnnualCompensation</th>\n",
              "    </tr>\n",
              "  </thead>\n",
              "  <tbody>\n",
              "    <tr>\n",
              "      <th>0</th>\n",
              "      <td>4</td>\n",
              "      <td>I am a developer by profession</td>\n",
              "      <td>No</td>\n",
              "      <td>Never</td>\n",
              "      <td>The quality of OSS and closed source software ...</td>\n",
              "      <td>Employed full-time</td>\n",
              "      <td>United States</td>\n",
              "      <td>No</td>\n",
              "      <td>Bachelor’s degree (BA, BS, B.Eng., etc.)</td>\n",
              "      <td>Computer science, computer engineering, or sof...</td>\n",
              "      <td>...</td>\n",
              "      <td>Tech articles written by other developers;Indu...</td>\n",
              "      <td>22.0</td>\n",
              "      <td>Man</td>\n",
              "      <td>No</td>\n",
              "      <td>Straight / Heterosexual</td>\n",
              "      <td>White or of European descent</td>\n",
              "      <td>No</td>\n",
              "      <td>Appropriate in length</td>\n",
              "      <td>Easy</td>\n",
              "      <td>61000.0</td>\n",
              "    </tr>\n",
              "    <tr>\n",
              "      <th>1</th>\n",
              "      <td>9</td>\n",
              "      <td>I am a developer by profession</td>\n",
              "      <td>Yes</td>\n",
              "      <td>Once a month or more often</td>\n",
              "      <td>The quality of OSS and closed source software ...</td>\n",
              "      <td>Employed full-time</td>\n",
              "      <td>New Zealand</td>\n",
              "      <td>No</td>\n",
              "      <td>Some college/university study without earning ...</td>\n",
              "      <td>Computer science, computer engineering, or sof...</td>\n",
              "      <td>...</td>\n",
              "      <td>NaN</td>\n",
              "      <td>23.0</td>\n",
              "      <td>Man</td>\n",
              "      <td>No</td>\n",
              "      <td>Bisexual</td>\n",
              "      <td>White or of European descent</td>\n",
              "      <td>No</td>\n",
              "      <td>Appropriate in length</td>\n",
              "      <td>Neither easy nor difficult</td>\n",
              "      <td>138000.0</td>\n",
              "    </tr>\n",
              "    <tr>\n",
              "      <th>2</th>\n",
              "      <td>13</td>\n",
              "      <td>I am a developer by profession</td>\n",
              "      <td>Yes</td>\n",
              "      <td>Less than once a month but more than once per ...</td>\n",
              "      <td>OSS is, on average, of HIGHER quality than pro...</td>\n",
              "      <td>Employed full-time</td>\n",
              "      <td>United States</td>\n",
              "      <td>No</td>\n",
              "      <td>Master’s degree (MA, MS, M.Eng., MBA, etc.)</td>\n",
              "      <td>Computer science, computer engineering, or sof...</td>\n",
              "      <td>...</td>\n",
              "      <td>Tech articles written by other developers;Cour...</td>\n",
              "      <td>28.0</td>\n",
              "      <td>Man</td>\n",
              "      <td>No</td>\n",
              "      <td>Straight / Heterosexual</td>\n",
              "      <td>White or of European descent</td>\n",
              "      <td>Yes</td>\n",
              "      <td>Appropriate in length</td>\n",
              "      <td>Easy</td>\n",
              "      <td>90000.0</td>\n",
              "    </tr>\n",
              "    <tr>\n",
              "      <th>3</th>\n",
              "      <td>16</td>\n",
              "      <td>I am a developer by profession</td>\n",
              "      <td>Yes</td>\n",
              "      <td>Never</td>\n",
              "      <td>The quality of OSS and closed source software ...</td>\n",
              "      <td>Employed full-time</td>\n",
              "      <td>United Kingdom</td>\n",
              "      <td>No</td>\n",
              "      <td>Master’s degree (MA, MS, M.Eng., MBA, etc.)</td>\n",
              "      <td>NaN</td>\n",
              "      <td>...</td>\n",
              "      <td>Tech articles written by other developers;Indu...</td>\n",
              "      <td>26.0</td>\n",
              "      <td>Man</td>\n",
              "      <td>No</td>\n",
              "      <td>Straight / Heterosexual</td>\n",
              "      <td>White or of European descent</td>\n",
              "      <td>No</td>\n",
              "      <td>Appropriate in length</td>\n",
              "      <td>Neither easy nor difficult</td>\n",
              "      <td>348000.0</td>\n",
              "    </tr>\n",
              "    <tr>\n",
              "      <th>4</th>\n",
              "      <td>17</td>\n",
              "      <td>I am a developer by profession</td>\n",
              "      <td>Yes</td>\n",
              "      <td>Less than once a month but more than once per ...</td>\n",
              "      <td>The quality of OSS and closed source software ...</td>\n",
              "      <td>Employed full-time</td>\n",
              "      <td>Australia</td>\n",
              "      <td>No</td>\n",
              "      <td>Bachelor’s degree (BA, BS, B.Eng., etc.)</td>\n",
              "      <td>Computer science, computer engineering, or sof...</td>\n",
              "      <td>...</td>\n",
              "      <td>Tech articles written by other developers;Indu...</td>\n",
              "      <td>29.0</td>\n",
              "      <td>Man</td>\n",
              "      <td>No</td>\n",
              "      <td>Straight / Heterosexual</td>\n",
              "      <td>Hispanic or Latino/Latina;Multiracial</td>\n",
              "      <td>No</td>\n",
              "      <td>Appropriate in length</td>\n",
              "      <td>Easy</td>\n",
              "      <td>90000.0</td>\n",
              "    </tr>\n",
              "    <tr>\n",
              "      <th>...</th>\n",
              "      <td>...</td>\n",
              "      <td>...</td>\n",
              "      <td>...</td>\n",
              "      <td>...</td>\n",
              "      <td>...</td>\n",
              "      <td>...</td>\n",
              "      <td>...</td>\n",
              "      <td>...</td>\n",
              "      <td>...</td>\n",
              "      <td>...</td>\n",
              "      <td>...</td>\n",
              "      <td>...</td>\n",
              "      <td>...</td>\n",
              "      <td>...</td>\n",
              "      <td>...</td>\n",
              "      <td>...</td>\n",
              "      <td>...</td>\n",
              "      <td>...</td>\n",
              "      <td>...</td>\n",
              "      <td>...</td>\n",
              "      <td>...</td>\n",
              "    </tr>\n",
              "    <tr>\n",
              "      <th>11547</th>\n",
              "      <td>25136</td>\n",
              "      <td>I am a developer by profession</td>\n",
              "      <td>Yes</td>\n",
              "      <td>Never</td>\n",
              "      <td>OSS is, on average, of HIGHER quality than pro...</td>\n",
              "      <td>Employed full-time</td>\n",
              "      <td>United States</td>\n",
              "      <td>No</td>\n",
              "      <td>Master’s degree (MA, MS, M.Eng., MBA, etc.)</td>\n",
              "      <td>Computer science, computer engineering, or sof...</td>\n",
              "      <td>...</td>\n",
              "      <td>Tech articles written by other developers;Cour...</td>\n",
              "      <td>36.0</td>\n",
              "      <td>Man</td>\n",
              "      <td>No</td>\n",
              "      <td>Straight / Heterosexual</td>\n",
              "      <td>White or of European descent</td>\n",
              "      <td>No</td>\n",
              "      <td>Appropriate in length</td>\n",
              "      <td>Difficult</td>\n",
              "      <td>130000.0</td>\n",
              "    </tr>\n",
              "    <tr>\n",
              "      <th>11548</th>\n",
              "      <td>25137</td>\n",
              "      <td>I am a developer by profession</td>\n",
              "      <td>Yes</td>\n",
              "      <td>Never</td>\n",
              "      <td>The quality of OSS and closed source software ...</td>\n",
              "      <td>Employed full-time</td>\n",
              "      <td>Poland</td>\n",
              "      <td>No</td>\n",
              "      <td>Master’s degree (MA, MS, M.Eng., MBA, etc.)</td>\n",
              "      <td>Computer science, computer engineering, or sof...</td>\n",
              "      <td>...</td>\n",
              "      <td>Tech articles written by other developers;Tech...</td>\n",
              "      <td>25.0</td>\n",
              "      <td>Man</td>\n",
              "      <td>No</td>\n",
              "      <td>Straight / Heterosexual</td>\n",
              "      <td>White or of European descent</td>\n",
              "      <td>No</td>\n",
              "      <td>Appropriate in length</td>\n",
              "      <td>Neither easy nor difficult</td>\n",
              "      <td>74400.0</td>\n",
              "    </tr>\n",
              "    <tr>\n",
              "      <th>11549</th>\n",
              "      <td>25138</td>\n",
              "      <td>I am a developer by profession</td>\n",
              "      <td>Yes</td>\n",
              "      <td>Less than once per year</td>\n",
              "      <td>The quality of OSS and closed source software ...</td>\n",
              "      <td>Employed full-time</td>\n",
              "      <td>United States</td>\n",
              "      <td>No</td>\n",
              "      <td>Master’s degree (MA, MS, M.Eng., MBA, etc.)</td>\n",
              "      <td>Computer science, computer engineering, or sof...</td>\n",
              "      <td>...</td>\n",
              "      <td>Tech articles written by other developers;Indu...</td>\n",
              "      <td>34.0</td>\n",
              "      <td>Man</td>\n",
              "      <td>No</td>\n",
              "      <td>Straight / Heterosexual</td>\n",
              "      <td>White or of European descent</td>\n",
              "      <td>Yes</td>\n",
              "      <td>Too long</td>\n",
              "      <td>Easy</td>\n",
              "      <td>105000.0</td>\n",
              "    </tr>\n",
              "    <tr>\n",
              "      <th>11550</th>\n",
              "      <td>25141</td>\n",
              "      <td>I am a developer by profession</td>\n",
              "      <td>Yes</td>\n",
              "      <td>Less than once a month but more than once per ...</td>\n",
              "      <td>OSS is, on average, of LOWER quality than prop...</td>\n",
              "      <td>Employed full-time</td>\n",
              "      <td>Switzerland</td>\n",
              "      <td>No</td>\n",
              "      <td>Secondary school (e.g. American high school, G...</td>\n",
              "      <td>NaN</td>\n",
              "      <td>...</td>\n",
              "      <td>NaN</td>\n",
              "      <td>25.0</td>\n",
              "      <td>Man</td>\n",
              "      <td>No</td>\n",
              "      <td>Straight / Heterosexual</td>\n",
              "      <td>White or of European descent</td>\n",
              "      <td>No</td>\n",
              "      <td>Appropriate in length</td>\n",
              "      <td>Easy</td>\n",
              "      <td>80000.0</td>\n",
              "    </tr>\n",
              "    <tr>\n",
              "      <th>11551</th>\n",
              "      <td>25142</td>\n",
              "      <td>I am a developer by profession</td>\n",
              "      <td>Yes</td>\n",
              "      <td>Less than once a month but more than once per ...</td>\n",
              "      <td>OSS is, on average, of HIGHER quality than pro...</td>\n",
              "      <td>Employed full-time</td>\n",
              "      <td>United Kingdom</td>\n",
              "      <td>No</td>\n",
              "      <td>Other doctoral degree (Ph.D, Ed.D., etc.)</td>\n",
              "      <td>A natural science (ex. biology, chemistry, phy...</td>\n",
              "      <td>...</td>\n",
              "      <td>Tech articles written by other developers;Tech...</td>\n",
              "      <td>30.0</td>\n",
              "      <td>Man</td>\n",
              "      <td>No</td>\n",
              "      <td>Bisexual</td>\n",
              "      <td>White or of European descent</td>\n",
              "      <td>No</td>\n",
              "      <td>Appropriate in length</td>\n",
              "      <td>Easy</td>\n",
              "      <td>NaN</td>\n",
              "    </tr>\n",
              "  </tbody>\n",
              "</table>\n",
              "<p>11398 rows × 86 columns</p>\n",
              "</div>\n",
              "    <div class=\"colab-df-buttons\">\n",
              "\n",
              "  <div class=\"colab-df-container\">\n",
              "    <button class=\"colab-df-convert\" onclick=\"convertToInteractive('df-cb384d87-5111-4653-8cd3-6538b89a468d')\"\n",
              "            title=\"Convert this dataframe to an interactive table.\"\n",
              "            style=\"display:none;\">\n",
              "\n",
              "  <svg xmlns=\"http://www.w3.org/2000/svg\" height=\"24px\" viewBox=\"0 -960 960 960\">\n",
              "    <path d=\"M120-120v-720h720v720H120Zm60-500h600v-160H180v160Zm220 220h160v-160H400v160Zm0 220h160v-160H400v160ZM180-400h160v-160H180v160Zm440 0h160v-160H620v160ZM180-180h160v-160H180v160Zm440 0h160v-160H620v160Z\"/>\n",
              "  </svg>\n",
              "    </button>\n",
              "\n",
              "  <style>\n",
              "    .colab-df-container {\n",
              "      display:flex;\n",
              "      gap: 12px;\n",
              "    }\n",
              "\n",
              "    .colab-df-convert {\n",
              "      background-color: #E8F0FE;\n",
              "      border: none;\n",
              "      border-radius: 50%;\n",
              "      cursor: pointer;\n",
              "      display: none;\n",
              "      fill: #1967D2;\n",
              "      height: 32px;\n",
              "      padding: 0 0 0 0;\n",
              "      width: 32px;\n",
              "    }\n",
              "\n",
              "    .colab-df-convert:hover {\n",
              "      background-color: #E2EBFA;\n",
              "      box-shadow: 0px 1px 2px rgba(60, 64, 67, 0.3), 0px 1px 3px 1px rgba(60, 64, 67, 0.15);\n",
              "      fill: #174EA6;\n",
              "    }\n",
              "\n",
              "    .colab-df-buttons div {\n",
              "      margin-bottom: 4px;\n",
              "    }\n",
              "\n",
              "    [theme=dark] .colab-df-convert {\n",
              "      background-color: #3B4455;\n",
              "      fill: #D2E3FC;\n",
              "    }\n",
              "\n",
              "    [theme=dark] .colab-df-convert:hover {\n",
              "      background-color: #434B5C;\n",
              "      box-shadow: 0px 1px 3px 1px rgba(0, 0, 0, 0.15);\n",
              "      filter: drop-shadow(0px 1px 2px rgba(0, 0, 0, 0.3));\n",
              "      fill: #FFFFFF;\n",
              "    }\n",
              "  </style>\n",
              "\n",
              "    <script>\n",
              "      const buttonEl =\n",
              "        document.querySelector('#df-cb384d87-5111-4653-8cd3-6538b89a468d button.colab-df-convert');\n",
              "      buttonEl.style.display =\n",
              "        google.colab.kernel.accessAllowed ? 'block' : 'none';\n",
              "\n",
              "      async function convertToInteractive(key) {\n",
              "        const element = document.querySelector('#df-cb384d87-5111-4653-8cd3-6538b89a468d');\n",
              "        const dataTable =\n",
              "          await google.colab.kernel.invokeFunction('convertToInteractive',\n",
              "                                                    [key], {});\n",
              "        if (!dataTable) return;\n",
              "\n",
              "        const docLinkHtml = 'Like what you see? Visit the ' +\n",
              "          '<a target=\"_blank\" href=https://colab.research.google.com/notebooks/data_table.ipynb>data table notebook</a>'\n",
              "          + ' to learn more about interactive tables.';\n",
              "        element.innerHTML = '';\n",
              "        dataTable['output_type'] = 'display_data';\n",
              "        await google.colab.output.renderOutput(dataTable, element);\n",
              "        const docLink = document.createElement('div');\n",
              "        docLink.innerHTML = docLinkHtml;\n",
              "        element.appendChild(docLink);\n",
              "      }\n",
              "    </script>\n",
              "  </div>\n",
              "\n",
              "\n",
              "<div id=\"df-62a923ac-4046-405f-abe3-fd84fd824d7e\">\n",
              "  <button class=\"colab-df-quickchart\" onclick=\"quickchart('df-62a923ac-4046-405f-abe3-fd84fd824d7e')\"\n",
              "            title=\"Suggest charts\"\n",
              "            style=\"display:none;\">\n",
              "\n",
              "<svg xmlns=\"http://www.w3.org/2000/svg\" height=\"24px\"viewBox=\"0 0 24 24\"\n",
              "     width=\"24px\">\n",
              "    <g>\n",
              "        <path d=\"M19 3H5c-1.1 0-2 .9-2 2v14c0 1.1.9 2 2 2h14c1.1 0 2-.9 2-2V5c0-1.1-.9-2-2-2zM9 17H7v-7h2v7zm4 0h-2V7h2v10zm4 0h-2v-4h2v4z\"/>\n",
              "    </g>\n",
              "</svg>\n",
              "  </button>\n",
              "\n",
              "<style>\n",
              "  .colab-df-quickchart {\n",
              "      --bg-color: #E8F0FE;\n",
              "      --fill-color: #1967D2;\n",
              "      --hover-bg-color: #E2EBFA;\n",
              "      --hover-fill-color: #174EA6;\n",
              "      --disabled-fill-color: #AAA;\n",
              "      --disabled-bg-color: #DDD;\n",
              "  }\n",
              "\n",
              "  [theme=dark] .colab-df-quickchart {\n",
              "      --bg-color: #3B4455;\n",
              "      --fill-color: #D2E3FC;\n",
              "      --hover-bg-color: #434B5C;\n",
              "      --hover-fill-color: #FFFFFF;\n",
              "      --disabled-bg-color: #3B4455;\n",
              "      --disabled-fill-color: #666;\n",
              "  }\n",
              "\n",
              "  .colab-df-quickchart {\n",
              "    background-color: var(--bg-color);\n",
              "    border: none;\n",
              "    border-radius: 50%;\n",
              "    cursor: pointer;\n",
              "    display: none;\n",
              "    fill: var(--fill-color);\n",
              "    height: 32px;\n",
              "    padding: 0;\n",
              "    width: 32px;\n",
              "  }\n",
              "\n",
              "  .colab-df-quickchart:hover {\n",
              "    background-color: var(--hover-bg-color);\n",
              "    box-shadow: 0 1px 2px rgba(60, 64, 67, 0.3), 0 1px 3px 1px rgba(60, 64, 67, 0.15);\n",
              "    fill: var(--button-hover-fill-color);\n",
              "  }\n",
              "\n",
              "  .colab-df-quickchart-complete:disabled,\n",
              "  .colab-df-quickchart-complete:disabled:hover {\n",
              "    background-color: var(--disabled-bg-color);\n",
              "    fill: var(--disabled-fill-color);\n",
              "    box-shadow: none;\n",
              "  }\n",
              "\n",
              "  .colab-df-spinner {\n",
              "    border: 2px solid var(--fill-color);\n",
              "    border-color: transparent;\n",
              "    border-bottom-color: var(--fill-color);\n",
              "    animation:\n",
              "      spin 1s steps(1) infinite;\n",
              "  }\n",
              "\n",
              "  @keyframes spin {\n",
              "    0% {\n",
              "      border-color: transparent;\n",
              "      border-bottom-color: var(--fill-color);\n",
              "      border-left-color: var(--fill-color);\n",
              "    }\n",
              "    20% {\n",
              "      border-color: transparent;\n",
              "      border-left-color: var(--fill-color);\n",
              "      border-top-color: var(--fill-color);\n",
              "    }\n",
              "    30% {\n",
              "      border-color: transparent;\n",
              "      border-left-color: var(--fill-color);\n",
              "      border-top-color: var(--fill-color);\n",
              "      border-right-color: var(--fill-color);\n",
              "    }\n",
              "    40% {\n",
              "      border-color: transparent;\n",
              "      border-right-color: var(--fill-color);\n",
              "      border-top-color: var(--fill-color);\n",
              "    }\n",
              "    60% {\n",
              "      border-color: transparent;\n",
              "      border-right-color: var(--fill-color);\n",
              "    }\n",
              "    80% {\n",
              "      border-color: transparent;\n",
              "      border-right-color: var(--fill-color);\n",
              "      border-bottom-color: var(--fill-color);\n",
              "    }\n",
              "    90% {\n",
              "      border-color: transparent;\n",
              "      border-bottom-color: var(--fill-color);\n",
              "    }\n",
              "  }\n",
              "</style>\n",
              "\n",
              "  <script>\n",
              "    async function quickchart(key) {\n",
              "      const quickchartButtonEl =\n",
              "        document.querySelector('#' + key + ' button');\n",
              "      quickchartButtonEl.disabled = true;  // To prevent multiple clicks.\n",
              "      quickchartButtonEl.classList.add('colab-df-spinner');\n",
              "      try {\n",
              "        const charts = await google.colab.kernel.invokeFunction(\n",
              "            'suggestCharts', [key], {});\n",
              "      } catch (error) {\n",
              "        console.error('Error during call to suggestCharts:', error);\n",
              "      }\n",
              "      quickchartButtonEl.classList.remove('colab-df-spinner');\n",
              "      quickchartButtonEl.classList.add('colab-df-quickchart-complete');\n",
              "    }\n",
              "    (() => {\n",
              "      let quickchartButtonEl =\n",
              "        document.querySelector('#df-62a923ac-4046-405f-abe3-fd84fd824d7e button');\n",
              "      quickchartButtonEl.style.display =\n",
              "        google.colab.kernel.accessAllowed ? 'block' : 'none';\n",
              "    })();\n",
              "  </script>\n",
              "</div>\n",
              "\n",
              "  <div id=\"id_54b53cf9-2bb7-4f55-b66e-8d4f96d4102d\">\n",
              "    <style>\n",
              "      .colab-df-generate {\n",
              "        background-color: #E8F0FE;\n",
              "        border: none;\n",
              "        border-radius: 50%;\n",
              "        cursor: pointer;\n",
              "        display: none;\n",
              "        fill: #1967D2;\n",
              "        height: 32px;\n",
              "        padding: 0 0 0 0;\n",
              "        width: 32px;\n",
              "      }\n",
              "\n",
              "      .colab-df-generate:hover {\n",
              "        background-color: #E2EBFA;\n",
              "        box-shadow: 0px 1px 2px rgba(60, 64, 67, 0.3), 0px 1px 3px 1px rgba(60, 64, 67, 0.15);\n",
              "        fill: #174EA6;\n",
              "      }\n",
              "\n",
              "      [theme=dark] .colab-df-generate {\n",
              "        background-color: #3B4455;\n",
              "        fill: #D2E3FC;\n",
              "      }\n",
              "\n",
              "      [theme=dark] .colab-df-generate:hover {\n",
              "        background-color: #434B5C;\n",
              "        box-shadow: 0px 1px 3px 1px rgba(0, 0, 0, 0.15);\n",
              "        filter: drop-shadow(0px 1px 2px rgba(0, 0, 0, 0.3));\n",
              "        fill: #FFFFFF;\n",
              "      }\n",
              "    </style>\n",
              "    <button class=\"colab-df-generate\" onclick=\"generateWithVariable('df')\"\n",
              "            title=\"Generate code using this dataframe.\"\n",
              "            style=\"display:none;\">\n",
              "\n",
              "  <svg xmlns=\"http://www.w3.org/2000/svg\" height=\"24px\"viewBox=\"0 0 24 24\"\n",
              "       width=\"24px\">\n",
              "    <path d=\"M7,19H8.4L18.45,9,17,7.55,7,17.6ZM5,21V16.75L18.45,3.32a2,2,0,0,1,2.83,0l1.4,1.43a1.91,1.91,0,0,1,.58,1.4,1.91,1.91,0,0,1-.58,1.4L9.25,21ZM18.45,9,17,7.55Zm-12,3A5.31,5.31,0,0,0,4.9,8.1,5.31,5.31,0,0,0,1,6.5,5.31,5.31,0,0,0,4.9,4.9,5.31,5.31,0,0,0,6.5,1,5.31,5.31,0,0,0,8.1,4.9,5.31,5.31,0,0,0,12,6.5,5.46,5.46,0,0,0,6.5,12Z\"/>\n",
              "  </svg>\n",
              "    </button>\n",
              "    <script>\n",
              "      (() => {\n",
              "      const buttonEl =\n",
              "        document.querySelector('#id_54b53cf9-2bb7-4f55-b66e-8d4f96d4102d button.colab-df-generate');\n",
              "      buttonEl.style.display =\n",
              "        google.colab.kernel.accessAllowed ? 'block' : 'none';\n",
              "\n",
              "      buttonEl.onclick = () => {\n",
              "        google.colab.notebook.generateWithVariable('df');\n",
              "      }\n",
              "      })();\n",
              "    </script>\n",
              "  </div>\n",
              "\n",
              "    </div>\n",
              "  </div>\n"
            ],
            "application/vnd.google.colaboratory.intrinsic+json": {
              "type": "dataframe",
              "variable_name": "df"
            }
          },
          "metadata": {},
          "execution_count": 17
        }
      ]
    },
    {
      "cell_type": "markdown",
      "metadata": {
        "id": "G4sdqHLgSh8W"
      },
      "source": [
        "## Finding Missing values\n"
      ]
    },
    {
      "cell_type": "markdown",
      "metadata": {
        "id": "uSyYL1BtSh8W"
      },
      "source": [
        "Find the missing values for all columns.\n"
      ]
    },
    {
      "cell_type": "code",
      "execution_count": null,
      "metadata": {
        "colab": {
          "base_uri": "https://localhost:8080/",
          "height": 458
        },
        "id": "aUUNh4eYSh8W",
        "outputId": "1ad0a3b7-f6d3-409a-b55a-d5c0689b33df"
      },
      "outputs": [
        {
          "output_type": "execute_result",
          "data": {
            "text/plain": [
              "Respondent        0\n",
              "MainBranch        0\n",
              "Hobbyist          0\n",
              "OpenSourcer       0\n",
              "OpenSource       81\n",
              "               ... \n",
              "Sexuality       542\n",
              "Ethnicity       675\n",
              "Dependents      140\n",
              "SurveyLength     19\n",
              "SurveyEase       14\n",
              "Length: 85, dtype: int64"
            ],
            "text/html": [
              "<div>\n",
              "<style scoped>\n",
              "    .dataframe tbody tr th:only-of-type {\n",
              "        vertical-align: middle;\n",
              "    }\n",
              "\n",
              "    .dataframe tbody tr th {\n",
              "        vertical-align: top;\n",
              "    }\n",
              "\n",
              "    .dataframe thead th {\n",
              "        text-align: right;\n",
              "    }\n",
              "</style>\n",
              "<table border=\"1\" class=\"dataframe\">\n",
              "  <thead>\n",
              "    <tr style=\"text-align: right;\">\n",
              "      <th></th>\n",
              "      <th>0</th>\n",
              "    </tr>\n",
              "  </thead>\n",
              "  <tbody>\n",
              "    <tr>\n",
              "      <th>Respondent</th>\n",
              "      <td>0</td>\n",
              "    </tr>\n",
              "    <tr>\n",
              "      <th>MainBranch</th>\n",
              "      <td>0</td>\n",
              "    </tr>\n",
              "    <tr>\n",
              "      <th>Hobbyist</th>\n",
              "      <td>0</td>\n",
              "    </tr>\n",
              "    <tr>\n",
              "      <th>OpenSourcer</th>\n",
              "      <td>0</td>\n",
              "    </tr>\n",
              "    <tr>\n",
              "      <th>OpenSource</th>\n",
              "      <td>81</td>\n",
              "    </tr>\n",
              "    <tr>\n",
              "      <th>...</th>\n",
              "      <td>...</td>\n",
              "    </tr>\n",
              "    <tr>\n",
              "      <th>Sexuality</th>\n",
              "      <td>542</td>\n",
              "    </tr>\n",
              "    <tr>\n",
              "      <th>Ethnicity</th>\n",
              "      <td>675</td>\n",
              "    </tr>\n",
              "    <tr>\n",
              "      <th>Dependents</th>\n",
              "      <td>140</td>\n",
              "    </tr>\n",
              "    <tr>\n",
              "      <th>SurveyLength</th>\n",
              "      <td>19</td>\n",
              "    </tr>\n",
              "    <tr>\n",
              "      <th>SurveyEase</th>\n",
              "      <td>14</td>\n",
              "    </tr>\n",
              "  </tbody>\n",
              "</table>\n",
              "<p>85 rows × 1 columns</p>\n",
              "</div><br><label><b>dtype:</b> int64</label>"
            ]
          },
          "metadata": {},
          "execution_count": 6
        }
      ],
      "source": [
        "missing_values = df.isna()\n",
        "missing_values.sum()"
      ]
    },
    {
      "cell_type": "markdown",
      "metadata": {
        "id": "QLFS4jDfSh8X"
      },
      "source": [
        "Find out how many rows are missing in the column 'WorkLoc'\n"
      ]
    },
    {
      "cell_type": "code",
      "execution_count": null,
      "metadata": {
        "colab": {
          "base_uri": "https://localhost:8080/"
        },
        "id": "bdw_aXuMSh8X",
        "outputId": "bb51f1ff-876b-454c-d78c-5feab7a27a88"
      },
      "outputs": [
        {
          "output_type": "execute_result",
          "data": {
            "text/plain": [
              "32"
            ]
          },
          "metadata": {},
          "execution_count": 7
        }
      ],
      "source": [
        "missing_values['WorkLoc'].sum()"
      ]
    },
    {
      "cell_type": "markdown",
      "metadata": {
        "id": "8RVz8DFJSh8X"
      },
      "source": [
        "## Imputing missing values\n"
      ]
    },
    {
      "cell_type": "markdown",
      "metadata": {
        "id": "HCVbWuqZSh8Y"
      },
      "source": [
        "Find the  value counts for the column WorkLoc.\n"
      ]
    },
    {
      "cell_type": "code",
      "execution_count": null,
      "metadata": {
        "colab": {
          "base_uri": "https://localhost:8080/",
          "height": 209
        },
        "id": "FtPw2apDSh8Y",
        "outputId": "2b7cce7a-db44-4e55-9d98-dd81bcf5b504"
      },
      "outputs": [
        {
          "output_type": "execute_result",
          "data": {
            "text/plain": [
              "WorkLoc\n",
              "Office                                            6806\n",
              "Home                                              3589\n",
              "Other place, such as a coworking space or cafe     971\n",
              "Name: count, dtype: int64"
            ],
            "text/html": [
              "<div>\n",
              "<style scoped>\n",
              "    .dataframe tbody tr th:only-of-type {\n",
              "        vertical-align: middle;\n",
              "    }\n",
              "\n",
              "    .dataframe tbody tr th {\n",
              "        vertical-align: top;\n",
              "    }\n",
              "\n",
              "    .dataframe thead th {\n",
              "        text-align: right;\n",
              "    }\n",
              "</style>\n",
              "<table border=\"1\" class=\"dataframe\">\n",
              "  <thead>\n",
              "    <tr style=\"text-align: right;\">\n",
              "      <th></th>\n",
              "      <th>count</th>\n",
              "    </tr>\n",
              "    <tr>\n",
              "      <th>WorkLoc</th>\n",
              "      <th></th>\n",
              "    </tr>\n",
              "  </thead>\n",
              "  <tbody>\n",
              "    <tr>\n",
              "      <th>Office</th>\n",
              "      <td>6806</td>\n",
              "    </tr>\n",
              "    <tr>\n",
              "      <th>Home</th>\n",
              "      <td>3589</td>\n",
              "    </tr>\n",
              "    <tr>\n",
              "      <th>Other place, such as a coworking space or cafe</th>\n",
              "      <td>971</td>\n",
              "    </tr>\n",
              "  </tbody>\n",
              "</table>\n",
              "</div><br><label><b>dtype:</b> int64</label>"
            ]
          },
          "metadata": {},
          "execution_count": 8
        }
      ],
      "source": [
        "df['WorkLoc'].value_counts()\n"
      ]
    },
    {
      "cell_type": "markdown",
      "metadata": {
        "id": "wqcZkSHNSh8Z"
      },
      "source": [
        "Identify the value that is most frequent (majority) in the WorkLoc column.\n"
      ]
    },
    {
      "cell_type": "code",
      "execution_count": null,
      "metadata": {
        "colab": {
          "base_uri": "https://localhost:8080/",
          "height": 115
        },
        "id": "ayFr342hSh8Z",
        "outputId": "32cf1834-8861-49b3-e72d-afaf3f03b63e"
      },
      "outputs": [
        {
          "output_type": "execute_result",
          "data": {
            "text/plain": [
              "0    Office\n",
              "Name: WorkLoc, dtype: object"
            ],
            "text/html": [
              "<div>\n",
              "<style scoped>\n",
              "    .dataframe tbody tr th:only-of-type {\n",
              "        vertical-align: middle;\n",
              "    }\n",
              "\n",
              "    .dataframe tbody tr th {\n",
              "        vertical-align: top;\n",
              "    }\n",
              "\n",
              "    .dataframe thead th {\n",
              "        text-align: right;\n",
              "    }\n",
              "</style>\n",
              "<table border=\"1\" class=\"dataframe\">\n",
              "  <thead>\n",
              "    <tr style=\"text-align: right;\">\n",
              "      <th></th>\n",
              "      <th>WorkLoc</th>\n",
              "    </tr>\n",
              "  </thead>\n",
              "  <tbody>\n",
              "    <tr>\n",
              "      <th>0</th>\n",
              "      <td>Office</td>\n",
              "    </tr>\n",
              "  </tbody>\n",
              "</table>\n",
              "</div><br><label><b>dtype:</b> object</label>"
            ]
          },
          "metadata": {},
          "execution_count": 21
        }
      ],
      "source": [
        "df['WorkLoc'].mode()\n"
      ]
    },
    {
      "cell_type": "code",
      "source": [
        "df['Employment'].mode()"
      ],
      "metadata": {
        "colab": {
          "base_uri": "https://localhost:8080/",
          "height": 115
        },
        "id": "eYlqadqoYteh",
        "outputId": "4824b0eb-3702-46b2-f753-a840fbbfae6c"
      },
      "execution_count": null,
      "outputs": [
        {
          "output_type": "execute_result",
          "data": {
            "text/plain": [
              "0    Employed full-time\n",
              "Name: Employment, dtype: object"
            ],
            "text/html": [
              "<div>\n",
              "<style scoped>\n",
              "    .dataframe tbody tr th:only-of-type {\n",
              "        vertical-align: middle;\n",
              "    }\n",
              "\n",
              "    .dataframe tbody tr th {\n",
              "        vertical-align: top;\n",
              "    }\n",
              "\n",
              "    .dataframe thead th {\n",
              "        text-align: right;\n",
              "    }\n",
              "</style>\n",
              "<table border=\"1\" class=\"dataframe\">\n",
              "  <thead>\n",
              "    <tr style=\"text-align: right;\">\n",
              "      <th></th>\n",
              "      <th>Employment</th>\n",
              "    </tr>\n",
              "  </thead>\n",
              "  <tbody>\n",
              "    <tr>\n",
              "      <th>0</th>\n",
              "      <td>Employed full-time</td>\n",
              "    </tr>\n",
              "  </tbody>\n",
              "</table>\n",
              "</div><br><label><b>dtype:</b> object</label>"
            ]
          },
          "metadata": {},
          "execution_count": 22
        }
      ]
    },
    {
      "cell_type": "markdown",
      "metadata": {
        "id": "43SDXgdpSh8a"
      },
      "source": [
        "Impute (replace) all the empty rows in the column WorkLoc with the value that you have identified as majority.\n"
      ]
    },
    {
      "cell_type": "code",
      "execution_count": null,
      "metadata": {
        "colab": {
          "base_uri": "https://localhost:8080/"
        },
        "id": "XLglT4fSSh8a",
        "outputId": "fd83cbaa-2c09-4b5c-f67a-dc3bdf369560"
      },
      "outputs": [
        {
          "output_type": "stream",
          "name": "stderr",
          "text": [
            "<ipython-input-12-b5c1f3b8fd72>:2: FutureWarning: A value is trying to be set on a copy of a DataFrame or Series through chained assignment using an inplace method.\n",
            "The behavior will change in pandas 3.0. This inplace method will never work because the intermediate object on which we are setting values always behaves as a copy.\n",
            "\n",
            "For example, when doing 'df[col].method(value, inplace=True)', try using 'df.method({col: value}, inplace=True)' or df[col] = df[col].method(value) instead, to perform the operation inplace on the original object.\n",
            "\n",
            "\n",
            "  df['WorkLoc'].replace(np.nan, 'Office', inplace=True)\n"
          ]
        }
      ],
      "source": [
        "# your code goes here\n",
        "df['WorkLoc'].replace(np.nan, 'Office', inplace=True)\n"
      ]
    },
    {
      "cell_type": "markdown",
      "metadata": {
        "id": "JQcSdSL9Sh8b"
      },
      "source": [
        "After imputation there should ideally not be any empty rows in the WorkLoc column.\n"
      ]
    },
    {
      "cell_type": "markdown",
      "metadata": {
        "id": "5kiCKsHCSh8b"
      },
      "source": [
        "Verify if imputing was successful.\n"
      ]
    },
    {
      "cell_type": "code",
      "execution_count": null,
      "metadata": {
        "colab": {
          "base_uri": "https://localhost:8080/"
        },
        "id": "Hze783IWSh8b",
        "outputId": "0626d963-1ff8-48a4-8682-b262125a57a0"
      },
      "outputs": [
        {
          "output_type": "execute_result",
          "data": {
            "text/plain": [
              "0"
            ]
          },
          "metadata": {},
          "execution_count": 13
        }
      ],
      "source": [
        "df['WorkLoc'].isna().sum()\n"
      ]
    },
    {
      "cell_type": "markdown",
      "metadata": {
        "id": "sgXTCC81Sh8c"
      },
      "source": [
        "## Normalizing data\n"
      ]
    },
    {
      "cell_type": "markdown",
      "metadata": {
        "id": "W4vLJMgUSh8c"
      },
      "source": [
        "There are two columns in the dataset that talk about compensation.\n",
        "\n",
        "One is \"CompFreq\". This column shows how often a developer is paid (Yearly, Monthly, Weekly).\n",
        "\n",
        "The other is \"CompTotal\". This column talks about how much the developer is paid per Year, Month, or Week depending upon his/her \"CompFreq\".\n",
        "\n",
        "This makes it difficult to compare the total compensation of the developers.\n",
        "\n",
        "In this section you will create a new column called 'NormalizedAnnualCompensation' which contains the 'Annual Compensation' irrespective of the 'CompFreq'.\n",
        "\n",
        "Once this column is ready, it makes comparison of salaries easy.\n"
      ]
    },
    {
      "cell_type": "markdown",
      "metadata": {
        "id": "nxnSInAMSh8e"
      },
      "source": [
        "<hr>\n"
      ]
    },
    {
      "cell_type": "markdown",
      "metadata": {
        "id": "OH3CDAPySh8e"
      },
      "source": [
        "List out the various categories in the column 'CompFreq'\n"
      ]
    },
    {
      "cell_type": "code",
      "execution_count": null,
      "metadata": {
        "colab": {
          "base_uri": "https://localhost:8080/",
          "height": 209
        },
        "id": "uWswjZ94Sh8e",
        "outputId": "5087b4cd-b460-4ab3-e52c-560d3bee1b34"
      },
      "outputs": [
        {
          "output_type": "execute_result",
          "data": {
            "text/plain": [
              "CompFreq\n",
              "1.0     6073\n",
              "12.0    4788\n",
              "52.0     331\n",
              "Name: count, dtype: int64"
            ],
            "text/html": [
              "<div>\n",
              "<style scoped>\n",
              "    .dataframe tbody tr th:only-of-type {\n",
              "        vertical-align: middle;\n",
              "    }\n",
              "\n",
              "    .dataframe tbody tr th {\n",
              "        vertical-align: top;\n",
              "    }\n",
              "\n",
              "    .dataframe thead th {\n",
              "        text-align: right;\n",
              "    }\n",
              "</style>\n",
              "<table border=\"1\" class=\"dataframe\">\n",
              "  <thead>\n",
              "    <tr style=\"text-align: right;\">\n",
              "      <th></th>\n",
              "      <th>count</th>\n",
              "    </tr>\n",
              "    <tr>\n",
              "      <th>CompFreq</th>\n",
              "      <th></th>\n",
              "    </tr>\n",
              "  </thead>\n",
              "  <tbody>\n",
              "    <tr>\n",
              "      <th>1.0</th>\n",
              "      <td>6073</td>\n",
              "    </tr>\n",
              "    <tr>\n",
              "      <th>12.0</th>\n",
              "      <td>4788</td>\n",
              "    </tr>\n",
              "    <tr>\n",
              "      <th>52.0</th>\n",
              "      <td>331</td>\n",
              "    </tr>\n",
              "  </tbody>\n",
              "</table>\n",
              "</div><br><label><b>dtype:</b> int64</label>"
            ]
          },
          "metadata": {},
          "execution_count": 23
        }
      ],
      "source": [
        "df['CompFreq'].unique()\n",
        "df['CompFreq'].value_counts()"
      ]
    },
    {
      "cell_type": "markdown",
      "metadata": {
        "id": "e8vBW3bASh8f"
      },
      "source": [
        "Create a new column named 'NormalizedAnnualCompensation'. Use the hint given below if needed.\n"
      ]
    },
    {
      "cell_type": "markdown",
      "metadata": {
        "id": "yOHlyXL5Sh8f"
      },
      "source": [
        "Double click to see the **Hint**.\n",
        "\n",
        "<!--\n",
        "\n",
        "Use the below logic to arrive at the values for the column NormalizedAnnualCompensation.\n",
        "\n",
        "If the CompFreq is Yearly then use the exising value in CompTotal\n",
        "If the CompFreq is Monthly then multiply the value in CompTotal with 12 (months in an year)\n",
        "If the CompFreq is Weekly then multiply the value in CompTotal with 52 (weeks in an year)\n",
        "\n",
        "-->\n"
      ]
    },
    {
      "cell_type": "code",
      "execution_count": null,
      "metadata": {
        "colab": {
          "base_uri": "https://localhost:8080/"
        },
        "id": "cyP087NZSh8g",
        "outputId": "88d7cd4f-726b-4ec4-cd3d-6330a66b9a57"
      },
      "outputs": [
        {
          "output_type": "stream",
          "name": "stderr",
          "text": [
            "<ipython-input-24-750593a4451e>:1: FutureWarning: A value is trying to be set on a copy of a DataFrame or Series through chained assignment using an inplace method.\n",
            "The behavior will change in pandas 3.0. This inplace method will never work because the intermediate object on which we are setting values always behaves as a copy.\n",
            "\n",
            "For example, when doing 'df[col].method(value, inplace=True)', try using 'df.method({col: value}, inplace=True)' or df[col] = df[col].method(value) instead, to perform the operation inplace on the original object.\n",
            "\n",
            "\n",
            "  df[\"CompFreq\"].replace(to_replace=\"Yearly\",value=1,inplace=True)\n",
            "<ipython-input-24-750593a4451e>:2: FutureWarning: A value is trying to be set on a copy of a DataFrame or Series through chained assignment using an inplace method.\n",
            "The behavior will change in pandas 3.0. This inplace method will never work because the intermediate object on which we are setting values always behaves as a copy.\n",
            "\n",
            "For example, when doing 'df[col].method(value, inplace=True)', try using 'df.method({col: value}, inplace=True)' or df[col] = df[col].method(value) instead, to perform the operation inplace on the original object.\n",
            "\n",
            "\n",
            "  df[\"CompFreq\"].replace(to_replace=\"Monthly\",value=12,inplace=True)\n",
            "<ipython-input-24-750593a4451e>:3: FutureWarning: A value is trying to be set on a copy of a DataFrame or Series through chained assignment using an inplace method.\n",
            "The behavior will change in pandas 3.0. This inplace method will never work because the intermediate object on which we are setting values always behaves as a copy.\n",
            "\n",
            "For example, when doing 'df[col].method(value, inplace=True)', try using 'df.method({col: value}, inplace=True)' or df[col] = df[col].method(value) instead, to perform the operation inplace on the original object.\n",
            "\n",
            "\n",
            "  df[\"CompFreq\"].replace(to_replace=\"Weekly\",value=52,inplace=True)\n"
          ]
        },
        {
          "output_type": "execute_result",
          "data": {
            "text/plain": [
              "100000.0"
            ]
          },
          "metadata": {},
          "execution_count": 24
        }
      ],
      "source": [
        "\n",
        "df[\"CompFreq\"].replace(to_replace=\"Yearly\",value=1,inplace=True)\n",
        "df[\"CompFreq\"].replace(to_replace=\"Monthly\",value=12,inplace=True)\n",
        "df[\"CompFreq\"].replace(to_replace=\"Weekly\",value=52,inplace=True)\n",
        "\n",
        "df['NormalizedAnnualCompensation'] = df[\"CompTotal\"] * df[\"CompFreq\"]\n",
        "df['NormalizedAnnualCompensation'].median()\n"
      ]
    },
    {
      "cell_type": "markdown",
      "metadata": {
        "id": "Qivo5MJfSh8g"
      },
      "source": [
        "## Authors\n"
      ]
    },
    {
      "cell_type": "markdown",
      "metadata": {
        "id": "gsE19flJSh8g"
      },
      "source": [
        "Ramesh Sannareddy\n"
      ]
    },
    {
      "cell_type": "markdown",
      "metadata": {
        "id": "skfKhhUtSh8h"
      },
      "source": [
        "### Other Contributors\n"
      ]
    },
    {
      "cell_type": "markdown",
      "metadata": {
        "id": "McsWeQugSh8h"
      },
      "source": [
        "Rav Ahuja\n"
      ]
    },
    {
      "cell_type": "markdown",
      "metadata": {
        "id": "KQJcsjX0Sh8h"
      },
      "source": [
        "## Change Log\n"
      ]
    },
    {
      "cell_type": "markdown",
      "metadata": {
        "id": "6chD6FxZSh8h"
      },
      "source": [
        "| Date (YYYY-MM-DD) | Version | Changed By        | Change Description                 |\n",
        "| ----------------- | ------- | ----------------- | ---------------------------------- |\n",
        "| 2020-10-17        | 0.1     | Ramesh Sannareddy | Created initial version of the lab |\n"
      ]
    },
    {
      "cell_type": "markdown",
      "metadata": {
        "id": "V0rE5MPQSh8i"
      },
      "source": [
        " Copyright © 2020 IBM Corporation. This notebook and its source code are released under the terms of the [MIT License](https://cognitiveclass.ai/mit-license?utm_medium=Exinfluencer&utm_source=Exinfluencer&utm_content=000026UJ&utm_term=10006555&utm_id=NA-SkillsNetwork-Channel-SkillsNetworkCoursesIBMDA0321ENSkillsNetwork928-2022-01-01&cm_mmc=Email_Newsletter-_-Developer_Ed%2BTech-_-WW_WW-_-SkillsNetwork-Courses-IBM-DA0321EN-SkillsNetwork-21426264&cm_mmca1=000026UJ&cm_mmca2=10006555&cm_mmca3=M12345678&cvosrc=email.Newsletter.M12345678&cvo_campaign=000026UJ).\n"
      ]
    }
  ],
  "metadata": {
    "kernelspec": {
      "display_name": "Python",
      "language": "python",
      "name": "conda-env-python-py"
    },
    "language_info": {
      "name": ""
    },
    "colab": {
      "provenance": []
    }
  },
  "nbformat": 4,
  "nbformat_minor": 0
}